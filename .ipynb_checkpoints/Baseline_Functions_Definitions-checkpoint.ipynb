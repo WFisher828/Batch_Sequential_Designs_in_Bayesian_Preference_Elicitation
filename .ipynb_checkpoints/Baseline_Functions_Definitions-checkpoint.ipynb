{
 "cells": [
  {
   "cell_type": "code",
   "execution_count": 1,
   "id": "b1e07c3f",
   "metadata": {},
   "outputs": [],
   "source": [
    "#This module \"Baseline_Functions_Definitions\" includes functions that the questionnaire procedure and experimental framework\n",
    "#are based off of. The functions include:\n",
    "#1. z_expectation_variance\n",
    "#2. g_fun\n",
    "#4. g_fun_linear_regression"
   ]
  },
  {
   "cell_type": "code",
   "execution_count": 2,
   "id": "fe3c1f02",
   "metadata": {},
   "outputs": [],
   "source": [
    "import numpy as np\n",
    "import pandas as pd\n",
    "import scipy.integrate\n",
    "import math\n",
    "from sklearn import linear_model"
   ]
  },
  {
   "cell_type": "code",
   "execution_count": 3,
   "id": "37a43057",
   "metadata": {},
   "outputs": [],
   "source": [
    "#Compute expectation and variance of Z random variable parameterized by m and v\n",
    "\n",
    "def z_expectation_variance(m,v):\n",
    "    #m is question mean\n",
    "    #v is question variance\n",
    "    \n",
    "    #MARCH 28 2023: CHANGED TO 35 (from 30) due to some errors in calculation. At integ_bound = 30, there were instances \n",
    "    #where variance was calculated to be less than 0. \n",
    "    integ_bound = 35.0\n",
    "    \n",
    "    #Set up functions for calculating expectation and variance of Z\n",
    "    fun1 = lambda z: ((1 + math.e**(-m - math.sqrt(v)*z))**(-1))*(math.e**((-z**2)/2))/math.sqrt(2*math.pi)\n",
    "    fun2 = lambda z: z*((1 + math.e**(-m - math.sqrt(v)*z))**(-1))*(math.e**((-z**2)/2))/math.sqrt(2*math.pi)\n",
    "    fun3 = lambda z: z*z*((1 + math.e**(-m - math.sqrt(v)*z))**(-1))*(math.e**((-z**2)/2))/math.sqrt(2*math.pi)\n",
    "    \n",
    "    #Calculate expectation and variance of Z. C is the normalization constant that ensures the pdf of Z\n",
    "    #integrates to be 1. \n",
    "    C = scipy.integrate.quad(fun1, -integ_bound, integ_bound)[0]\n",
    "    mu_z = scipy.integrate.quad(fun2, -integ_bound, integ_bound)[0]/C\n",
    "    var_z = (scipy.integrate.quad(fun3, -integ_bound, integ_bound)[0] / C) - mu_z**2\n",
    "    \n",
    "    return [mu_z, var_z]"
   ]
  },
  {
   "cell_type": "code",
   "execution_count": 4,
   "id": "6072f713",
   "metadata": {},
   "outputs": [],
   "source": [
    "def g_fun(m,v,n=2):\n",
    "    #m and v are question mean and variance arguments\n",
    "    \n",
    "    #A bound for integration so to prevent numerical issues.\n",
    "    #MARCH 28 2023: CHANGED TO 35 (from 30) due to some errors in calculation. At integ_bound = 30, there were instances \n",
    "    #where variance was calculated to be less than 0. \n",
    "    integ_bound = 35.0\n",
    "    \n",
    "    #fun1 represents the pdf of the Z(m,v) random variable before normalizing\n",
    "    fun1 = lambda z: ((1 + math.e**(-m - math.sqrt(v)*z))**(-1))*(math.e**((-z**2)/2))/math.sqrt(2*math.pi)\n",
    "    \n",
    "    #fun2 will be used for calculating the expectation of Z(m,v)\n",
    "    fun2 = lambda z: z*((1 + math.e**(-m - math.sqrt(v)*z))**(-1))*(math.e**((-z**2)/2))/math.sqrt(2*math.pi)\n",
    "    \n",
    "    #fun3 will be used in calculating the variance of Z(m,v)\n",
    "    fun3 = lambda z: z*z*((1 + math.e**(-m - math.sqrt(v)*z))**(-1))*(math.e**((-z**2)/2))/math.sqrt(2*math.pi)\n",
    "    \n",
    "    #fun4 will be used in calculating the expectation of Z(-m,v)\n",
    "    fun4 = lambda z: z*(1-(1 + math.e**(-m - math.sqrt(v)*z))**(-1))*(math.e**((-z**2)/2))/math.sqrt(2*math.pi)\n",
    "    \n",
    "    #fun5 will be used in calculating the variance of Z(-m,v)\n",
    "    fun5 = lambda z: z*z*(1-(1 + math.e**(-m - math.sqrt(v)*z))**(-1))*(math.e**((-z**2)/2))/math.sqrt(2*math.pi)\n",
    "    \n",
    "    #C is the normalization constant of the pdf for Z. This is the p(m,v) term.\n",
    "    C = scipy.integrate.quad(fun1, -integ_bound, integ_bound)[0]\n",
    "    \n",
    "    #Calculate variance for Z(m,v) and Z(-m,v)\n",
    "    if C < 10**(-6):\n",
    "        C = 0\n",
    "        Sig_z_1 = 1\n",
    "    else:\n",
    "        mu_z_1 = scipy.integrate.quad(fun2, -integ_bound, integ_bound)[0]/C\n",
    "        Sig_z_1 = (scipy.integrate.quad(fun3, -integ_bound, integ_bound)[0]/C) - mu_z_1**2\n",
    "    \n",
    "    if (1-C) < 10**(-6):\n",
    "        C = 1\n",
    "        Sig_z_2 = 1\n",
    "    else:\n",
    "        mu_z_2 = scipy.integrate.quad(fun4, -integ_bound, integ_bound)[0]/(1-C)\n",
    "        Sig_z_2 = (scipy.integrate.quad(fun5, -integ_bound, integ_bound)[0]/(1-C)) - mu_z_2**2\n",
    "    \n",
    "    #print('Left-branch, right-branch value: ' + str(Sig_z_1) + ' ' + str(Sig_z_2))\n",
    "\n",
    "    #g_fun can take on arbitrary n\n",
    "    return [C*Sig_z_1**(1/float(n)) + (1-C)*Sig_z_2**(1/float(n)), C*Sig_z_1**(1/float(n)), (1-C)*Sig_z_2**(1/float(n))]"
   ]
  },
  {
   "cell_type": "code",
   "execution_count": 5,
   "id": "fcc46754",
   "metadata": {},
   "outputs": [],
   "source": [
    "#A function for doing linear regression on the log(g_fun).\n",
    "def g_fun_linear_regression(m_lower,m_upper,v_lower,v_upper,m_axis_num,v_axis_num):\n",
    "    #m_lower is the lower bound for the grid in variable m\n",
    "    #m_upper is the upper bound for the grid in variable m\n",
    "    #v_lower is the lower bound for the grid in variable v\n",
    "    #v_upper is the upper bound for the grid in variable v\n",
    "    #m_axis_num and v_axis_num are the number of points used to make the m-axis and v-axis.\n",
    "    #The total number of grid points is m_axis_num*v_axis_num.\n",
    "    \n",
    "    #construct grid data for m and v variables\n",
    "    m_grid = np.linspace(m_lower, m_upper, num = m_axis_num)\n",
    "    v_grid = np.linspace(v_lower, v_upper, num = v_axis_num)\n",
    "    \n",
    "    #initiate an array to collect data on log(g)\n",
    "    gfun_array = np.zeros((m_axis_num*v_axis_num,3))\n",
    "    \n",
    "    #Format/collect data\n",
    "    for i in range(0,m_axis_num):\n",
    "        for j in range(0,v_axis_num):\n",
    "            #print(m_grid[i],v_grid[j])\n",
    "            gfun_array[i*v_axis_num + j] = [m_grid[i],v_grid[j],math.log(g_fun(m_grid[i],v_grid[j])[0])]\n",
    "        \n",
    "    df_gfunction = pd.DataFrame(gfun_array, columns = ['m','v','g'])\n",
    "\n",
    "    Y = df_gfunction['g'] # dependent variable\n",
    "    X = df_gfunction[['m', 'v']] # independent variable\n",
    "    lm = linear_model.LinearRegression()\n",
    "    lm.fit(X, Y) # fitting the model\n",
    "\n",
    "    m_coeff = lm.coef_[0]\n",
    "    v_coeff = lm.coef_[1]\n",
    "\n",
    "    return[m_coeff,v_coeff]"
   ]
  },
  {
   "cell_type": "code",
   "execution_count": 6,
   "id": "66d1d6ea",
   "metadata": {},
   "outputs": [],
   "source": [
    "#NEED TO MOVE THIS TO A SEPARATE FILE\n",
    "#[mu_log_coeff_1, Sig_log_coeff_1] = g_fun_linear_regression(0.0,25.5,0.1,4.0*42.0,51,2*4*42)\n",
    "#print(mu_log_coeff_1,Sig_log_coeff_1)\n",
    "#These two coefficient values are found from the g_fun_linear_regression above.\n",
    "#mu_log_coeff = 0.03596804494858049\n",
    "#Sig_log_coeff = -0.020785433813507195"
   ]
  },
  {
   "cell_type": "code",
   "execution_count": 7,
   "id": "f4b2be41",
   "metadata": {},
   "outputs": [],
   "source": [
    "#NEED TO MOVE THIS TO A SEPARATE FILE\n",
    "#print(g_fun(0.0, 493.39367088607594))\n",
    "#print(g_fun(0.0, 672.0))"
   ]
  },
  {
   "cell_type": "code",
   "execution_count": 8,
   "id": "ab5e416a",
   "metadata": {},
   "outputs": [],
   "source": [
    "#NEED TO MOVE THIS TO A SEPARATE FILE\n",
    "#[mu_log_coeff, Sig_log_coeff] = g_fun_linear_regression(0.0,12.70,0.1,42.0,24,84)\n",
    "#print(mu_log_coeff,Sig_log_coeff)"
   ]
  },
  {
   "cell_type": "code",
   "execution_count": 9,
   "id": "5dca88eb",
   "metadata": {},
   "outputs": [],
   "source": [
    "#NEED TO MOVE THIS TO A SEPARATE FILE\n",
    "#[mu_log_coeff_2, Sig_log_coeff_2] = g_fun_linear_regression(0.0,7,0.1,5.25,24,24)\n",
    "#print(mu_log_coeff_2,Sig_log_coeff_2)"
   ]
  },
  {
   "cell_type": "code",
   "execution_count": 10,
   "id": "a9526eeb",
   "metadata": {},
   "outputs": [],
   "source": [
    "#NEED TO MOVE THIS TO A SEPARATE FILE\n",
    "#[mu_log_coeff_3, Sig_log_coeff_3] = g_fun_linear_regression(0.0,5.0,1.0,10,25,25)\n",
    "#print(mu_log_coeff_3,Sig_log_coeff_3) #Change"
   ]
  }
 ],
 "metadata": {
  "kernelspec": {
   "display_name": "Python 3 (ipykernel)",
   "language": "python",
   "name": "python3"
  },
  "language_info": {
   "codemirror_mode": {
    "name": "ipython",
    "version": 3
   },
   "file_extension": ".py",
   "mimetype": "text/x-python",
   "name": "python",
   "nbconvert_exporter": "python",
   "pygments_lexer": "ipython3",
   "version": "3.9.7"
  }
 },
 "nbformat": 4,
 "nbformat_minor": 5
}
